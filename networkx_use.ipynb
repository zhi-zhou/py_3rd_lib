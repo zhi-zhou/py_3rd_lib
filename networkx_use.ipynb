{
 "cells": [
  {
   "cell_type": "code",
   "execution_count": null,
   "metadata": {},
   "outputs": [],
   "source": [
    "# reference\n",
    "# 1. networkx2.5 doc \n",
    "# 2. networkx 系列教程 https://www.cnblogs.com/wushaogui/p/9203947.html"
   ]
  },
  {
   "cell_type": "code",
   "execution_count": 2,
   "metadata": {},
   "outputs": [],
   "source": [
    "import networkx as nx"
   ]
  },
  {
   "cell_type": "code",
   "execution_count": 4,
   "metadata": {},
   "outputs": [
    {
     "name": "stdout",
     "output_type": "stream",
     "text": [
      "[1, 2, 3] [(1, 2), (2, 3)]\n"
     ]
    }
   ],
   "source": [
    "# \n",
    "G = nx.Graph()\n",
    "G.add_edge(1,2)\n",
    "G.add_edge(2, 3, weight=0.9)\n",
    "print(G.nodes(), G.edges())"
   ]
  },
  {
   "cell_type": "code",
   "execution_count": 5,
   "metadata": {},
   "outputs": [],
   "source": [
    "# 6. 查看Graph的信息"
   ]
  },
  {
   "cell_type": "code",
   "execution_count": 9,
   "metadata": {},
   "outputs": [
    {
     "data": {
      "image/png": "[encoded data removed]",
      "text/plain": [
       "<Figure size 432x288 with 1 Axes>"
      ]
     },
     "metadata": {},
     "output_type": "display_data"
    },
    {
     "name": "stdout",
     "output_type": "stream",
     "text": [
      "number of nodes 8\n",
      "number of edges 7\n",
      "all nodes of Graph [0, 1, 2, 3, 4, 5, 6, 7]\n",
      "all edges of Graph [(0, 1), (1, 2), (2, 3), (3, 4), (4, 5), (5, 6), (6, 7)]\n",
      "degree of some nodes [(2, 2), (3, 2)]\n",
      "imformation of one nodes {'room': 714, 'color': 'b'}\n",
      "imformation of all nodes [(0, {}), (1, {'room': 714, 'color': 'b'}), (2, {}), (3, {}), (4, {}), (5, {}), (6, {}), (7, {})]\n",
      "imformation of all nodes [(0, 1, {}), (1, 2, {'weight': 4.7, 'color': 'blue'}), (2, 3, {}), (3, 4, {}), (4, 5, {}), (5, 6, {}), (6, 7, {})]\n"
     ]
    }
   ],
   "source": [
    "#生成graph\n",
    "# import matplotlib as mpl\n",
    "# mpl.use('TkAgg')\n",
    "import matplotlib.pyplot as plt\n",
    "%matplotlib inline \n",
    "G=nx.path_graph(8)\n",
    "nx.draw(G,with_labels=True)\n",
    "plt.axis('on')\n",
    "plt.xticks([])\n",
    "plt.yticks([])\n",
    "plt.show()\n",
    "# 6.1 查看graph内节点,边的数量\n",
    "print('number of nodes',G.number_of_nodes())\n",
    "print('number of edges',G.number_of_edges())\n",
    "# 6.2 输出图中所有的边和点\n",
    "print('all nodes of Graph',G.nodes())\n",
    "print('all edges of Graph',G.edges())\n",
    "# 6.3 查看某些节点的度\n",
    "print('degree of some nodes',G.degree([2, 3]))\n",
    "\n",
    "# 6.4 查看节点和边信息\n",
    "#设置一些节点信息\n",
    "G.nodes[1]['room'] = 714\n",
    "G.nodes[1]['color'] = 'b'\n",
    "#设置一些边信息\n",
    "G[1][2]['weight'] = 4.7\n",
    "G[1][2]['color'] = \"blue\"\n",
    "print('imformation of one nodes',G.nodes[1])\n",
    "print('imformation of all nodes',G.nodes.data())\n",
    "\n",
    "print('imformation of all nodes',G.edges.data())  #边不支持[x]这样的下标访问"
   ]
  },
  {
   "cell_type": "code",
   "execution_count": null,
   "metadata": {},
   "outputs": [],
   "source": [
    "# 6.5 遍历一个有权图\n",
    "#定义一个有权无向图\n",
    "FG = nx.Graph()\n",
    "FG.add_weighted_edges_from([(1, 2, 0.125), (1, 3, 0.75), (2, 4, 1.2), (3, 4, 0.375)])\n",
    "\n",
    "#遍历邻接矩阵\n",
    "for n, nbrs in FG.adj.items():\n",
    "    for nbr, eattr in nbrs.items():\n",
    "        wt = eattr['weight']\n",
    "        #权重小于0.5的输出\n",
    "        if wt < 0.5: \n",
    "            print('way1-(%d, %d, %.3f)' % (n, nbr, wt))\n",
    "\n",
    "#遍历所有边\n",
    "for (u, v, wt) in FG.edges.data('weight'):\n",
    "    #权重小于0.5的输出\n",
    "    if wt < 0.5: \n",
    "        print('way2-(%d, %d, %.3f)' % (u, v, wt))"
   ]
  },
  {
   "cell_type": "code",
   "execution_count": null,
   "metadata": {},
   "outputs": [],
   "source": []
  }
 ],
 "metadata": {
  "kernelspec": {
   "display_name": "Python 3",
   "language": "python",
   "name": "python3"
  },
  "language_info": {
   "codemirror_mode": {
    "name": "ipython",
    "version": 3
   },
   "file_extension": ".py",
   "mimetype": "text/x-python",
   "name": "python",
   "nbconvert_exporter": "python",
   "pygments_lexer": "ipython3",
   "version": "3.8.3"
  }
 },
 "nbformat": 4,
 "nbformat_minor": 4
}
